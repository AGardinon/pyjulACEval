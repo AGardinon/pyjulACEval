{
 "cells": [
  {
   "cell_type": "markdown",
   "metadata": {},
   "source": [
    "# pyjulEVACE.py\n",
    "\n",
    "Python wrapper to evaluate the ACE descriptor given a JSON input file."
   ]
  },
  {
   "cell_type": "code",
   "execution_count": 1,
   "metadata": {},
   "outputs": [],
   "source": [
    "# init Julia\n",
    "from julia.api import Julia\n",
    "jl = Julia(compiled_modules=False)"
   ]
  },
  {
   "cell_type": "code",
   "execution_count": 2,
   "metadata": {},
   "outputs": [],
   "source": [
    "# import Main\n",
    "from julia import Main"
   ]
  },
  {
   "cell_type": "code",
   "execution_count": 10,
   "metadata": {},
   "outputs": [],
   "source": [
    "# if it is required to activate the JULIA project\n",
    "# (i.e. it is not defined in the ENV variable of JULIA_PROJECT)\n",
    "#from julia import Pkg\n",
    "#pkgPath = os.path.realpath(path/to/myproject)\n",
    "#Pkg.activate(pkgPath)"
   ]
  },
  {
   "cell_type": "code",
   "execution_count": 5,
   "metadata": {},
   "outputs": [],
   "source": [
    "# define the jl function for the evaluation\n",
    "evACEfn = Main.include(\"evACE_test.jl\")"
   ]
  },
  {
   "cell_type": "code",
   "execution_count": 6,
   "metadata": {},
   "outputs": [
    {
     "data": {
      "text/plain": [
       "<PyCall.jlwrap evACE>"
      ]
     },
     "execution_count": 6,
     "metadata": {},
     "output_type": "execute_result"
    }
   ],
   "source": [
    "# evACEfn is a jl object\n",
    "evACEfn "
   ]
  },
  {
   "cell_type": "code",
   "execution_count": 7,
   "metadata": {},
   "outputs": [
    {
     "name": "stderr",
     "output_type": "stream",
     "text": [
      "[ Info: Keys used: E => \"\", F => \"\", V => \"\"\n",
      "[ Info: Keys used: E => \"\", F => \"\", V => \"\"\n",
      "Progress: 100%|█████████████████████████████████████████| Time: 0:00:00\u001b[K\n"
     ]
    }
   ],
   "source": [
    "# the fn takes the dict string name to compute the ACE descriptor\n",
    "# -> the output is a dict containing different info\n",
    "output_dict = evACEfn(\"evACE.json\")"
   ]
  },
  {
   "cell_type": "code",
   "execution_count": 9,
   "metadata": {},
   "outputs": [
    {
     "data": {
      "text/plain": [
       "dict_keys(['trajInfo', 'aceDescr'])"
      ]
     },
     "execution_count": 9,
     "metadata": {},
     "output_type": "execute_result"
    }
   ],
   "source": [
    "# output\n",
    "output_dict.keys()"
   ]
  },
  {
   "cell_type": "code",
   "execution_count": null,
   "metadata": {},
   "outputs": [],
   "source": []
  }
 ],
 "metadata": {
  "kernelspec": {
   "display_name": "Python 3.9.12 ('pyJ')",
   "language": "python",
   "name": "python3"
  },
  "language_info": {
   "codemirror_mode": {
    "name": "ipython",
    "version": 3
   },
   "file_extension": ".py",
   "mimetype": "text/x-python",
   "name": "python",
   "nbconvert_exporter": "python",
   "pygments_lexer": "ipython3",
   "version": "3.9.12"
  },
  "orig_nbformat": 4,
  "vscode": {
   "interpreter": {
    "hash": "4f76b1e805870eb6f8e6399d0a44207e514263214e59ae5998666898885795e9"
   }
  }
 },
 "nbformat": 4,
 "nbformat_minor": 2
}
