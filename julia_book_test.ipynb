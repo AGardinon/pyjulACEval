{
 "cells": [
  {
   "cell_type": "markdown",
   "metadata": {},
   "source": [
    "# Julia code for ACE basis evaluation"
   ]
  },
  {
   "cell_type": "markdown",
   "metadata": {},
   "source": [
    "## Misc"
   ]
  },
  {
   "cell_type": "code",
   "execution_count": 1,
   "metadata": {},
   "outputs": [
    {
     "data": {
      "text/plain": [
       "parse_dict (generic function with 1 method)"
      ]
     },
     "execution_count": 1,
     "metadata": {},
     "output_type": "execute_result"
    }
   ],
   "source": [
    "include(\"misc.jl\")"
   ]
  },
  {
   "cell_type": "code",
   "execution_count": 2,
   "metadata": {},
   "outputs": [
    {
     "data": {
      "text/plain": [
       "Dict{Symbol, Dict{Symbol}} with 3 entries:\n",
       "  :evaluation => Dict(:c_atom=>\"Li\")\n",
       "  :trajectory => Dict(:index=>\"0:100:1\", :traj_file=>\"./examples/traj_2.1_0-100…\n",
       "  :ace_basis  => Dict{Symbol, Any}(:species=>Any[\"H\", \"C\", \"O\", \"F\", \"P\", \"Li\",…"
      ]
     },
     "execution_count": 2,
     "metadata": {},
     "output_type": "execute_result"
    }
   ],
   "source": [
    "# full path not necessary if .json file is in the same dir\n",
    "string_dict = JSON.parsefile(\"evACE.json\")\n",
    "symbol_dict = parse_dict(\"evACE.json\")"
   ]
  },
  {
   "cell_type": "code",
   "execution_count": 3,
   "metadata": {},
   "outputs": [
    {
     "data": {
      "text/plain": [
       "Dict{Symbol, String} with 2 entries:\n",
       "  :index     => \"0:100:1\"\n",
       "  :traj_file => \"./examples/traj_2.1_0-100-1_newatoms.xyz\""
      ]
     },
     "execution_count": 3,
     "metadata": {},
     "output_type": "execute_result"
    }
   ],
   "source": [
    "symbol_dict[:trajectory]"
   ]
  },
  {
   "cell_type": "markdown",
   "metadata": {},
   "source": [
    "## Gen ACE basis"
   ]
  },
  {
   "cell_type": "code",
   "execution_count": 4,
   "metadata": {},
   "outputs": [
    {
     "name": "stderr",
     "output_type": "stream",
     "text": [
      "┌ Info: Precompiling ACE1pack [8c4e8d19-0bd6-4234-8309-7210652e3178]\n",
      "└ @ Base loading.jl:1423\n",
      "┌ Info: Skipping precompilation since __precompile__(false). Importing ACE1pack [8c4e8d19-0bd6-4234-8309-7210652e3178].\n",
      "└ @ Base loading.jl:1124\n",
      "┌ Info: Precompiling IPFitting [3002bd4c-79e4-52ce-b924-91256dde4e52]\n",
      "└ @ Base loading.jl:1423\n",
      "┌ Info: Skipping precompilation since __precompile__(false). Importing IPFitting [3002bd4c-79e4-52ce-b924-91256dde4e52].\n",
      "└ @ Base loading.jl:1124\n",
      "┌ Info: Precompiling ASE [51974c44-a7ed-5088-b8be-3e78c8ba416c]\n",
      "└ @ Base loading.jl:1423\n",
      "┌ Info: Skipping precompilation since __precompile__(false). Importing ASE [51974c44-a7ed-5088-b8be-3e78c8ba416c].\n",
      "└ @ Base loading.jl:1124\n"
     ]
    },
    {
     "data": {
      "text/plain": [
       "ACEdescriptor (generic function with 1 method)"
      ]
     },
     "execution_count": 4,
     "metadata": {},
     "output_type": "execute_result"
    }
   ],
   "source": [
    "include(\"descriptor.jl\")"
   ]
  },
  {
   "cell_type": "code",
   "execution_count": 5,
   "metadata": {},
   "outputs": [
    {
     "name": "stdout",
     "output_type": "stream",
     "text": [
      "5120\n"
     ]
    }
   ],
   "source": [
    "ace_basis = dict_to_ace_basis(symbol_dict)\n",
    "println(length(ace_basis))"
   ]
  },
  {
   "cell_type": "code",
   "execution_count": 6,
   "metadata": {},
   "outputs": [
    {
     "data": {
      "text/plain": [
       "Dict{Symbol, Any} with 7 entries:\n",
       "  :species => [\"H\", \"C\", \"O\", \"F\", \"P\", \"Li\", \"V\", \"Sc\"]\n",
       "  :N       => 3\n",
       "  :maxdeg  => 4\n",
       "  :rin     => 0.1\n",
       "  :rcut    => 5.5\n",
       "  :pin     => 2\n",
       "  :r0      => 0.5"
      ]
     },
     "execution_count": 6,
     "metadata": {},
     "output_type": "execute_result"
    }
   ],
   "source": [
    "# input to generate the ACE basis\n",
    "# -> some parameters are place by default and other are hidden\n",
    "symbol_dict[:ace_basis]"
   ]
  },
  {
   "cell_type": "markdown",
   "metadata": {},
   "source": [
    "## Load the trajectory"
   ]
  },
  {
   "cell_type": "code",
   "execution_count": 7,
   "metadata": {},
   "outputs": [
    {
     "data": {
      "text/plain": [
       "_traj_init (generic function with 1 method)"
      ]
     },
     "execution_count": 7,
     "metadata": {},
     "output_type": "execute_result"
    }
   ],
   "source": [
    "include(\"trajectory.jl\")"
   ]
  },
  {
   "cell_type": "code",
   "execution_count": 8,
   "metadata": {},
   "outputs": [
    {
     "data": {
      "text/plain": [
       "Dict{Symbol, String} with 2 entries:\n",
       "  :index     => \"0:100:1\"\n",
       "  :traj_file => \"./examples/traj_2.1_0-100-1_newatoms.xyz\""
      ]
     },
     "execution_count": 8,
     "metadata": {},
     "output_type": "execute_result"
    }
   ],
   "source": [
    "symbol_dict[:trajectory]"
   ]
  },
  {
   "cell_type": "code",
   "execution_count": 9,
   "metadata": {},
   "outputs": [
    {
     "name": "stderr",
     "output_type": "stream",
     "text": [
      "┌ Info: Keys used: E => \"\", F => \"\", V => \"\"\n",
      "└ @ IPFitting.Data /home/agardin/.julia/packages/IPFitting/E09UD/src/data.jl:152\n",
      "\u001b[32mProgress: 100%|█████████████████████████████████████████| Time: 0:00:01\u001b[39m\n"
     ]
    },
    {
     "name": "stdout",
     "output_type": "stream",
     "text": [
      "┌─────────────┬───────┬────────┬───────┬─────────┬───────┐\n",
      "│\u001b[1m config_type \u001b[0m│\u001b[1m #cfgs \u001b[0m│\u001b[1m  #envs \u001b[0m│\u001b[1m    #E \u001b[0m│\u001b[1m      #F \u001b[0m│\u001b[1m    #V \u001b[0m│\n",
      "│\u001b[90m      String \u001b[0m│\u001b[90m Int64 \u001b[0m│\u001b[90m  Int64 \u001b[0m│\u001b[90m Int64 \u001b[0m│\u001b[90m   Int64 \u001b[0m│\u001b[90m Int64 \u001b[0m│\n",
      "├─────────────┼───────┼────────┼───────┼─────────┼───────┤\n",
      "│     nothing │   100 │ 840200 │     0 │       0 │     0 │\n",
      "├─────────────┼───────┼────────┼───────┼─────────┼───────┤\n",
      "│       total │   100 │ 840200 │     0 │       0 │     0 │\n",
      "│     missing │     0 │      0 │   100 │ 2520600 │   900 │\n",
      "└─────────────┴───────┴────────┴───────┴─────────┴───────┘\n",
      "100\n"
     ]
    }
   ],
   "source": [
    "# read the trajectory\n",
    "traj_db = read_xyz(; symbol_dict[:trajectory]...)\n",
    "println(length(traj_db))"
   ]
  },
  {
   "cell_type": "markdown",
   "metadata": {},
   "source": [
    "### ACE evaluation"
   ]
  },
  {
   "cell_type": "code",
   "execution_count": 13,
   "metadata": {},
   "outputs": [
    {
     "data": {
      "text/plain": [
       "1-element Vector{Int64}:\n",
       " 3"
      ]
     },
     "execution_count": 13,
     "metadata": {},
     "output_type": "execute_result"
    }
   ],
   "source": [
    "central_Z = findall(x->x==symbol_dict[:evaluation][:c_atom], \n",
    "                    elements_dict[\"symbols\"]\n",
    "                    )"
   ]
  },
  {
   "cell_type": "code",
   "execution_count": 14,
   "metadata": {},
   "outputs": [
    {
     "name": "stdout",
     "output_type": "stream",
     "text": [
      "114\n"
     ]
    }
   ],
   "source": [
    "eval_sites = findall(x->x==central_Z[1], traj_db[1].at.Z)\n",
    "println(length(eval_sites))"
   ]
  },
  {
   "cell_type": "code",
   "execution_count": 15,
   "metadata": {},
   "outputs": [
    {
     "name": "stdout",
     "output_type": "stream",
     "text": [
      "114 5120\n"
     ]
    }
   ],
   "source": [
    "single_conf = [ACE1pack.JuLIP.site_energy(ace_basis, traj_db[1].at, site) for site in eval_sites]\n",
    "println(length(single_conf), \" \", length(single_conf[1]))"
   ]
  },
  {
   "cell_type": "code",
   "execution_count": 17,
   "metadata": {},
   "outputs": [
    {
     "name": "stdout",
     "output_type": "stream",
     "text": [
      "5120\n"
     ]
    }
   ],
   "source": [
    "single_site = ACE1pack.JuLIP.site_energy(ace_basis, traj_db[1].at, eval_sites[1])\n",
    "println(length(single_site))"
   ]
  },
  {
   "cell_type": "code",
   "execution_count": 18,
   "metadata": {},
   "outputs": [
    {
     "data": {
      "text/plain": [
       "Vector{Vector{Float64}} (alias for Array{Array{Float64, 1}, 1})"
      ]
     },
     "execution_count": 18,
     "metadata": {},
     "output_type": "execute_result"
    }
   ],
   "source": [
    "typeof(single_conf)"
   ]
  },
  {
   "cell_type": "code",
   "execution_count": 19,
   "metadata": {},
   "outputs": [
    {
     "data": {
      "text/plain": [
       "Vector{Float64} (alias for Array{Float64, 1})"
      ]
     },
     "execution_count": 19,
     "metadata": {},
     "output_type": "execute_result"
    }
   ],
   "source": [
    "typeof(single_site)"
   ]
  },
  {
   "cell_type": "code",
   "execution_count": 31,
   "metadata": {},
   "outputs": [
    {
     "data": {
      "text/plain": [
       "ACEdescriptor (generic function with 2 methods)"
      ]
     },
     "execution_count": 31,
     "metadata": {},
     "output_type": "execute_result"
    }
   ],
   "source": [
    "function ACEdescriptor(; traj_db, basis, c_atom)\n",
    "    # express central atom as Z\n",
    "    central_Z = findall(x->x==c_atom, \n",
    "                elements_dict[\"symbols\"])[1]\n",
    "    # get the indxs of the sites to be evaluated\n",
    "    eval_sites = findall(x->x==central_Z, traj_db[1].at.Z)\n",
    "\n",
    "    return [[ACE1pack.JuLIP.site_energy(ace_basis, at_conf.at, site) \n",
    "            for site in eval_sites] \n",
    "            for at_conf in traj_db]\n",
    "end"
   ]
  },
  {
   "cell_type": "code",
   "execution_count": 33,
   "metadata": {},
   "outputs": [
    {
     "data": {
      "text/plain": [
       "(100,)"
      ]
     },
     "execution_count": 33,
     "metadata": {},
     "output_type": "execute_result"
    }
   ],
   "source": [
    "ace_descr = ACEdescriptor(traj_db = traj_db, \n",
    "                          basis = ace_basis, \n",
    "                          c_atom = symbol_dict[:evaluation][:c_atom])\n",
    "size(ace_descr)"
   ]
  },
  {
   "cell_type": "code",
   "execution_count": 37,
   "metadata": {},
   "outputs": [],
   "source": [
    "using HDF5"
   ]
  },
  {
   "cell_type": "code",
   "execution_count": 40,
   "metadata": {},
   "outputs": [
    {
     "ename": "LoadError",
     "evalue": "MethodError: no method matching datatype(::Vector{Vector{Vector{Float64}}})\n\u001b[0mClosest candidates are:\n\u001b[0m  datatype(\u001b[91m::HDF5.VLen{T}\u001b[39m) where T<:Union{Bool, Float32, Float64, Int16, Int32, Int64, Int8, UInt16, UInt32, UInt64, UInt8, HDF5.Reference} at ~/.julia/packages/HDF5/7zvRl/src/typeconversions.jl:61\n\u001b[0m  datatype(\u001b[91m::HDF5.VLen{C}\u001b[39m) where C<:HDF5.CharType at ~/.julia/packages/HDF5/7zvRl/src/typeconversions.jl:62\n\u001b[0m  datatype(\u001b[91m::Union{Bool, Float32, Float64, Int16, Int32, Int64, Int8, UInt16, UInt32, UInt64, UInt8, HDF5.Reference}\u001b[39m) at ~/.julia/packages/HDF5/7zvRl/src/typeconversions.jl:167\n\u001b[0m  ...",
     "output_type": "error",
     "traceback": [
      "MethodError: no method matching datatype(::Vector{Vector{Vector{Float64}}})\n\u001b[0mClosest candidates are:\n\u001b[0m  datatype(\u001b[91m::HDF5.VLen{T}\u001b[39m) where T<:Union{Bool, Float32, Float64, Int16, Int32, Int64, Int8, UInt16, UInt32, UInt64, UInt8, HDF5.Reference} at ~/.julia/packages/HDF5/7zvRl/src/typeconversions.jl:61\n\u001b[0m  datatype(\u001b[91m::HDF5.VLen{C}\u001b[39m) where C<:HDF5.CharType at ~/.julia/packages/HDF5/7zvRl/src/typeconversions.jl:62\n\u001b[0m  datatype(\u001b[91m::Union{Bool, Float32, Float64, Int16, Int32, Int64, Int8, UInt16, UInt32, UInt64, UInt8, HDF5.Reference}\u001b[39m) at ~/.julia/packages/HDF5/7zvRl/src/typeconversions.jl:167\n\u001b[0m  ...",
      "",
      "Stacktrace:",
      "  [1] create_dataset(parent::HDF5.File, name::String, data::Vector{Vector{Vector{Float64}}}; pv::Base.Pairs{Symbol, Union{}, Tuple{}, NamedTuple{(), Tuple{}}})",
      "    @ HDF5 ~/.julia/packages/HDF5/7zvRl/src/HDF5.jl:1299",
      "  [2] create_dataset(parent::HDF5.File, name::String, data::Vector{Vector{Vector{Float64}}})",
      "    @ HDF5 ~/.julia/packages/HDF5/7zvRl/src/HDF5.jl:1299",
      "  [3] write_dataset(parent::HDF5.File, name::String, data::Vector{Vector{Vector{Float64}}}; pv::Base.Pairs{Symbol, Union{}, Tuple{}, NamedTuple{(), Tuple{}}})",
      "    @ HDF5 ~/.julia/packages/HDF5/7zvRl/src/HDF5.jl:1311",
      "  [4] write_dataset(parent::HDF5.File, name::String, data::Vector{Vector{Vector{Float64}}})",
      "    @ HDF5 ~/.julia/packages/HDF5/7zvRl/src/HDF5.jl:1311",
      "  [5] write(parent::HDF5.File, name::String, data::Vector{Vector{Vector{Float64}}}; pv::Base.Pairs{Symbol, Union{}, Tuple{}, NamedTuple{(), Tuple{}}})",
      "    @ HDF5 ~/.julia/packages/HDF5/7zvRl/src/HDF5.jl:1335",
      "  [6] write(parent::HDF5.File, name::String, data::Vector{Vector{Vector{Float64}}})",
      "    @ HDF5 ~/.julia/packages/HDF5/7zvRl/src/HDF5.jl:1335",
      "  [7] h5write(filename::String, name::String, data::Vector{Vector{Vector{Float64}}}; pv::Base.Pairs{Symbol, Union{}, Tuple{}, NamedTuple{(), Tuple{}}})",
      "    @ HDF5 ~/.julia/packages/HDF5/7zvRl/src/HDF5.jl:310",
      "  [8] h5write(filename::String, name::String, data::Vector{Vector{Vector{Float64}}})",
      "    @ HDF5 ~/.julia/packages/HDF5/7zvRl/src/HDF5.jl:308",
      "  [9] top-level scope",
      "    @ In[40]:1",
      " [10] eval",
      "    @ ./boot.jl:373 [inlined]",
      " [11] include_string(mapexpr::typeof(REPL.softscope), mod::Module, code::String, filename::String)",
      "    @ Base ./loading.jl:1196"
     ]
    }
   ],
   "source": [
    "h5write(\"ace_descr_test.h5\", \"./.\", ace_descr)"
   ]
  },
  {
   "cell_type": "code",
   "execution_count": 26,
   "metadata": {},
   "outputs": [
    {
     "data": {
      "text/plain": [
       "8-element Vector{Int64}:\n",
       "  1\n",
       "  3\n",
       "  6\n",
       "  8\n",
       "  9\n",
       " 15\n",
       " 21\n",
       " 23"
      ]
     },
     "execution_count": 26,
     "metadata": {},
     "output_type": "execute_result"
    }
   ],
   "source": [
    "atZ = [convert(Int, Z) for Z in unique(sort(traj_init[1].at.Z))]"
   ]
  },
  {
   "cell_type": "code",
   "execution_count": null,
   "metadata": {},
   "outputs": [],
   "source": []
  }
 ],
 "metadata": {
  "kernelspec": {
   "display_name": "Julia 1.7.3",
   "language": "julia",
   "name": "julia-1.7"
  },
  "language_info": {
   "file_extension": ".jl",
   "mimetype": "application/julia",
   "name": "julia",
   "version": "1.7.3"
  },
  "orig_nbformat": 4
 },
 "nbformat": 4,
 "nbformat_minor": 2
}
