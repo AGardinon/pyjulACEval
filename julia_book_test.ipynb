{
 "cells": [
  {
   "cell_type": "markdown",
   "metadata": {},
   "source": [
    "# Julia code for ACE basis evaluation"
   ]
  },
  {
   "cell_type": "markdown",
   "metadata": {},
   "source": [
    "Setting the input parameters and variables _via_ JSON"
   ]
  },
  {
   "cell_type": "code",
   "execution_count": 5,
   "metadata": {},
   "outputs": [
    {
     "name": "stderr",
     "output_type": "stream",
     "text": [
      "┌ Info: Precompiling ACE1pack [8c4e8d19-0bd6-4234-8309-7210652e3178]\n",
      "└ @ Base loading.jl:1423\n",
      "┌ Info: Skipping precompilation since __precompile__(false). Importing ACE1pack [8c4e8d19-0bd6-4234-8309-7210652e3178].\n",
      "└ @ Base loading.jl:1124\n",
      "┌ Info: Precompiling IPFitting [3002bd4c-79e4-52ce-b924-91256dde4e52]\n",
      "└ @ Base loading.jl:1423\n",
      "┌ Info: Skipping precompilation since __precompile__(false). Importing IPFitting [3002bd4c-79e4-52ce-b924-91256dde4e52].\n",
      "└ @ Base loading.jl:1124\n",
      "┌ Info: Precompiling ASE [51974c44-a7ed-5088-b8be-3e78c8ba416c]\n",
      "└ @ Base loading.jl:1423\n",
      "┌ Info: Skipping precompilation since __precompile__(false). Importing ASE [51974c44-a7ed-5088-b8be-3e78c8ba416c].\n",
      "└ @ Base loading.jl:1124\n"
     ]
    },
    {
     "data": {
      "text/plain": [
       "_traj_init (generic function with 1 method)"
      ]
     },
     "execution_count": 5,
     "metadata": {},
     "output_type": "execute_result"
    }
   ],
   "source": [
    "using ArgParse\n",
    "include(\"descriptor.jl\")\n",
    "include(\"trajectory.jl\")"
   ]
  },
  {
   "cell_type": "code",
   "execution_count": 6,
   "metadata": {},
   "outputs": [
    {
     "data": {
      "text/plain": [
       "Dict{String, Any} with 3 entries:\n",
       "  \"evaluation\" => Dict{String, Any}(\"Z\"=>3)\n",
       "  \"ace_basis\"  => Dict{String, Any}(\"rcut\"=>5.5, \"N\"=>3, \"maxdeg\"=>4, \"species\"…\n",
       "  \"trajectory\" => Dict{String, Any}(\"traj_file\"=>\"./examples/traj_2.1_0-100-1_n…"
      ]
     },
     "execution_count": 6,
     "metadata": {},
     "output_type": "execute_result"
    }
   ],
   "source": [
    "# full path not necessary if .json file is in the same dir\n",
    "#input_dict = JSON.parsefile(\"evACE.json\")\n",
    "input_dict = load_dict(\"evACE.json\")"
   ]
  },
  {
   "cell_type": "markdown",
   "metadata": {},
   "source": [
    "## init the Evaluation"
   ]
  },
  {
   "cell_type": "code",
   "execution_count": 9,
   "metadata": {},
   "outputs": [
    {
     "name": "stderr",
     "output_type": "stream",
     "text": [
      "┌ Info: Keys used: E => \"\", F => \"\", V => \"\"\n",
      "└ @ IPFitting.Data /home/agardin/.julia/packages/IPFitting/E09UD/src/data.jl:152\n"
     ]
    },
    {
     "name": "stdout",
     "output_type": "stream",
     "text": [
      "┌─────────────┬───────┬───────┬───────┬───────┬───────┐\n",
      "│\u001b[1m config_type \u001b[0m│\u001b[1m #cfgs \u001b[0m│\u001b[1m #envs \u001b[0m│\u001b[1m    #E \u001b[0m│\u001b[1m    #F \u001b[0m│\u001b[1m    #V \u001b[0m│\n",
      "│\u001b[90m      String \u001b[0m│\u001b[90m Int64 \u001b[0m│\u001b[90m Int64 \u001b[0m│\u001b[90m Int64 \u001b[0m│\u001b[90m Int64 \u001b[0m│\u001b[90m Int64 \u001b[0m│\n",
      "├─────────────┼───────┼───────┼───────┼───────┼───────┤\n",
      "│     nothing │     1 │  8402 │     0 │     0 │     0 │\n",
      "├─────────────┼───────┼───────┼───────┼───────┼───────┤\n",
      "│       total │     1 │  8402 │     0 │     0 │     0 │\n",
      "│     missing │     0 │     0 │     1 │ 25206 │     9 │\n",
      "└─────────────┴───────┴───────┴───────┴───────┴───────┘\n"
     ]
    },
    {
     "data": {
      "text/plain": [
       "1-element Vector{Dat}:\n",
       " Dat(Atoms{Float64}(StaticArraysCore.SVector{3, Float64}[[13.4214334, 37.9411774, 25.6024189], [12.4229565, 39.045311, 25.9095592], [14.2894106, 38.552597, 24.6148567], [12.5934677, 39.9337463, 24.7763767], [13.7624607, 39.6994514, 24.1646919], [12.8664417, 37.092144, 25.1768265], [14.003438, 37.619648, 26.4787102], [12.6682644, 39.5936661, 26.8310394], [11.3863182, 38.6841393, 25.8393097], [14.3525457, 40.5229683, 23.5030918]  …  [28.7237568, 37.9477577, 18.0548611], [16.9131069, 28.2505417, 28.0804462], [44.8431015, 22.4488029, 19.3294239], [40.0488434, 42.6378517, 27.3642979], [18.8909836, 43.4313812, 1.53649151], [30.3799152, 30.5201054, 44.2985649], [21.5288963, 0.73614603, 40.0230713], [8.79868984, 37.8729858, 21.1588421], [44.5085945, 33.5317574, 24.1566582], [35.9943466, 7.74214506, 11.2953444]], StaticArraysCore.SVector{3, Float64}[[0.0, 0.0, 0.0], [0.0, 0.0, 0.0], [0.0, 0.0, 0.0], [0.0, 0.0, 0.0], [0.0, 0.0, 0.0], [0.0, 0.0, 0.0], [0.0, 0.0, 0.0], [0.0, 0.0, 0.0], [0.0, 0.0, 0.0], [0.0, 0.0, 0.0]  …  [0.0, 0.0, 0.0], [0.0, 0.0, 0.0], [0.0, 0.0, 0.0], [0.0, 0.0, 0.0], [0.0, 0.0, 0.0], [0.0, 0.0, 0.0], [0.0, 0.0, 0.0], [0.0, 0.0, 0.0], [0.0, 0.0, 0.0], [0.0, 0.0, 0.0]], [44.955908, 44.955908, 50.9415, 50.9415, 44.955908, 1.008, 1.008, 1.008, 1.008, 50.9415  …  6.94, 6.94, 6.94, 6.94, 6.94, 6.94, 6.94, 6.94, 6.94, 6.94], AtomicNumber[<21>, <21>, <23>, <23>, <21>, <1>, <1>, <1>, <1>, <23>  …  <3>, <3>, <3>, <3>, <3>, <3>, <3>, <3>, <3>, <3>], [46.21103788889213 0.0 0.0; 0.0 46.21103788889213 0.0; 0.0 0.0 46.21103788889213], Bool[1, 1, 1], nothing, JuLIP.DofManager{Float64}(false, [1, 2, 3, 4, 5, 6, 7, 8, 9, 10  …  25197, 25198, 25199, 25200, 25201, 25202, 25203, 25204, 25205, 25206], JuLIP.LinearConstraint{Float64}[], StaticArraysCore.SVector{3, Float64}[], [0.0 0.0 0.0; 0.0 0.0 0.0; 0.0 0.0 0.0]), Dict{Any, JuLIP.JData{Float64}}()), \"nothing\", Dict{String, Vector{Float64}}(), Dict{String, Vector{Int64}}(), Dict{String, Any}())"
      ]
     },
     "execution_count": 9,
     "metadata": {},
     "output_type": "execute_result"
    }
   ],
   "source": [
    "# read first frame\n",
    "traj_init = _traj_init(input_dict[\"trajectory\"])"
   ]
  },
  {
   "cell_type": "markdown",
   "metadata": {},
   "source": [
    "### ACE basis init"
   ]
  },
  {
   "cell_type": "code",
   "execution_count": 10,
   "metadata": {},
   "outputs": [
    {
     "data": {
      "text/plain": [
       "Dict{String, Any} with 4 entries:\n",
       "  \"rcut\"    => 5.5\n",
       "  \"N\"       => 3\n",
       "  \"maxdeg\"  => 5\n",
       "  \"species\" => Any[\"H\"]"
      ]
     },
     "execution_count": 10,
     "metadata": {},
     "output_type": "execute_result"
    }
   ],
   "source": [
    "input_dict[\"ace_basis\"]"
   ]
  },
  {
   "cell_type": "code",
   "execution_count": 11,
   "metadata": {},
   "outputs": [
    {
     "data": {
      "text/plain": [
       "dict_to_ace_basis (generic function with 1 method)"
      ]
     },
     "execution_count": 11,
     "metadata": {},
     "output_type": "execute_result"
    }
   ],
   "source": [
    "# -- String to Symbol\n",
    "_params_to_species(species::Union{AbstractArray{T}, Tuple{T, T}}) where T <: AbstractString  = \n",
    "      Symbol.(species)\n",
    "\n",
    "_params_to_species(dict::Dict{Tuple{Tsym, Tsym}, Tval}) where Tsym <: AbstractString where Tval <: Any = \n",
    "      Dict(Tuple(_params_to_species(d)) => val for (d, val) in dict)\n",
    "\n",
    "_params_to_species(dict::Nothing) = nothing\n",
    "\n",
    "\n",
    "# -- Build the ace basis (rpi or ace ??)\n",
    "function dict_to_ace_basis(a::Dict)\n",
    "    # species\n",
    "    a[\"species\"] = convert(Vector{String}, a[\"species\"])\n",
    "    species = _params_to_species(a[\"species\"])\n",
    "    # body order\n",
    "    N = a[\"N\"]\n",
    "    # max poly degree\n",
    "    maxdeg = a[\"maxdeg\"]\n",
    "    # rcut\n",
    "    rcut = a[\"rcut\"]\n",
    "\n",
    "    # -- Default paramters\n",
    "    r0 = get!(input_dict[\"ace_basis\"], \"r0\", 0.5)\n",
    "    pin = get!(input_dict[\"ace_basis\"], \"pin\", 2)\n",
    "\n",
    "    # -- Hidden parameters\n",
    "    # degree - set as default as initial setp\n",
    "    _rin = 0.1\n",
    "    _D = SparsePSHDegree(; wL=1.5, csp=1.0)\n",
    "\n",
    "    return ACE1pack.ACE1.Utils.rpi_basis(;\n",
    "            species = species,\n",
    "            N = N,\n",
    "            maxdeg = maxdeg,\n",
    "            D = _D,\n",
    "            rcut = rcut, r0 = r0, rin = _rin,\n",
    "            pin = pin\n",
    "            )\n",
    "end"
   ]
  },
  {
   "cell_type": "code",
   "execution_count": 13,
   "metadata": {},
   "outputs": [
    {
     "data": {
      "text/plain": [
       "RPIBasis{Float64, BasicPSH1pBasis{Float64, 1, ACE1.OrthPolys.TransformedPolys{Float64, PolyTransform{Int64, Float64}, ACE1.OrthPolys.OrthPolyBasis{Float64}}}, 1, ACE1.DAGEvaluator}(PIBasis{BasicPSH1pBasis{Float64, 1, ACE1.OrthPolys.TransformedPolys{Float64, PolyTransform{Int64, Float64}, ACE1.OrthPolys.OrthPolyBasis{Float64}}}, 1, ACE1.DAGEvaluator}(BasicPSH1pBasis{Float64, 1, ACE1.OrthPolys.TransformedPolys{Float64, PolyTransform{Int64, Float64}, ACE1.OrthPolys.OrthPolyBasis{Float64}}}(ACE1.OrthPolys.TransformedPolys{Float64, PolyTransform{Int64, Float64}, ACE1.OrthPolys.OrthPolyBasis{Float64}}(ACE1.OrthPolys.OrthPolyBasis{Float64}(2, 0.053254437869822494, 2, 1.8595041322314048, [2.358083222149332, 3.6723879325307336, 2.9607738063804043, 2.6916125512549365, 2.5521234650096187], [0.0, -3.512195745342244, -2.831622736142675, -2.5742024874024536, -2.4407980148267954], [0.0, 0.0, -0.8062257748298562, -0.9090909090909164, -0.9481763873554993], [0.05415756271700328, 0.05596381241136487, 0.057770062105726445, 0.05957631180008803, 0.061382561494449615, 0.0631888111888112, 0.06499506088317278, 0.06680131057753436, 0.06860756027189595, 0.07041380996625753  …  1.8423447601349698, 1.8441510098293314, 1.845957259523693, 1.8477635092180547, 1.8495697589124163, 1.8513760086067776, 1.8531822583011393, 1.8549885079955009, 1.8567947576898625, 1.858601007384224], [0.001, 0.001, 0.001, 0.001, 0.001, 0.001, 0.001, 0.001, 0.001, 0.001  …  0.001, 0.001, 0.001, 0.001, 0.001, 0.001, 0.001, 0.001, 0.001, 0.001]), PolyTransform{Int64, Float64}(2, 0.5), 0.1, 5.5), ACE1.SphericalHarmonics.SHBasis{Float64}(2, ACE1.SphericalHarmonics.ALPCoefficients{Float64}([0.0, 6.94381500308305e-310, 6.9438149944357e-310, 1.9364916731037085, 6.94381500308305e-310, 6.9438149944357e-310], [0.0, 6.94381500308305e-310, 6.9438165464627e-310, -0.5773502691896257, 6.94381500308305e-310, 6.9438149944357e-310])), JuLIP.Potentials.SZList{1}(AtomicNumber[<1>]), ACE1.RPI.PSH1pBasisFcn[znlm[0|1,0,0], znlm[0|1,1,-1], znlm[0|1,1,0], znlm[0|1,1,1], znlm[0|1,2,-2], znlm[0|1,2,-1], znlm[0|1,2,0], znlm[0|1,2,1], znlm[0|1,2,2], znlm[0|2,0,0]  …  znlm[0|2,2,-1], znlm[0|2,2,0], znlm[0|2,2,1], znlm[0|2,2,2], znlm[0|3,0,0], znlm[0|3,1,-1], znlm[0|3,1,0], znlm[0|3,1,1], znlm[0|4,0,0], znlm[0|5,0,0]], UnitRange{Int64}[1:24;;]), JuLIP.Potentials.SZList{1}(AtomicNumber[<1>]), (ACE1.InnerPIBasis([1, 1, 1, 1, 1, 2, 2, 2, 2, 2, 2, 2, 2, 2, 3, 3, 3, 3], [1 0 0; 10 0 0; … ; 1 1 19; 1 10 10], Dict{ACE1.PIBasisFcn, Int64}(ACE1.PIBasisFcn{2, ACE1.RPI.PSH1pBasisFcn}(<1>, (znlm[1|1,1,-1], znlm[1|1,1,1]), ACE1.RPI.PSH1pBasisFcn) => 11, ACE1.PIBasisFcn{2, ACE1.RPI.PSH1pBasisFcn}(<1>, (znlm[1|2,0,0], znlm[1|2,0,0]), ACE1.RPI.PSH1pBasisFcn) => 13, ACE1.PIBasisFcn{2, ACE1.RPI.PSH1pBasisFcn}(<1>, (znlm[1|2,0,0], znlm[1|3,0,0]), ACE1.RPI.PSH1pBasisFcn) => 14, ACE1.PIBasisFcn{1, ACE1.RPI.PSH1pBasisFcn}(<1>, (znlm[1|5,0,0],), ACE1.RPI.PSH1pBasisFcn) => 5, ACE1.PIBasisFcn{2, ACE1.RPI.PSH1pBasisFcn}(<1>, (znlm[1|1,0,0], znlm[1|3,0,0]), ACE1.RPI.PSH1pBasisFcn) => 9, ACE1.PIBasisFcn{1, ACE1.RPI.PSH1pBasisFcn}(<1>, (znlm[1|3,0,0],), ACE1.RPI.PSH1pBasisFcn) => 3, ACE1.PIBasisFcn{3, ACE1.RPI.PSH1pBasisFcn}(<1>, (znlm[1|1,0,0], znlm[1|1,0,0], znlm[1|3,0,0]), ACE1.RPI.PSH1pBasisFcn) => 17, ACE1.PIBasisFcn{1, ACE1.RPI.PSH1pBasisFcn}(<1>, (znlm[1|1,0,0],), ACE1.RPI.PSH1pBasisFcn) => 1, ACE1.PIBasisFcn{3, ACE1.RPI.PSH1pBasisFcn}(<1>, (znlm[1|1,0,0], znlm[1|1,0,0], znlm[1|2,0,0]), ACE1.RPI.PSH1pBasisFcn) => 16, ACE1.PIBasisFcn{2, ACE1.RPI.PSH1pBasisFcn}(<1>, (znlm[1|1,0,0], znlm[1|4,0,0]), ACE1.RPI.PSH1pBasisFcn) => 10…), Dict{Any, Int64}(znlm[1|3,0,0] => 19, znlm[1|2,1,1] => 13, znlm[1|2,1,0] => 12, znlm[1|2,2,1] => 17, znlm[1|3,1,1] => 22, znlm[1|1,1,-1] => 2, znlm[1|2,2,-1] => 15, znlm[1|2,2,-2] => 14, znlm[1|3,1,-1] => 20, znlm[1|1,2,-1] => 6…), 1:18, <1>, ACE1.DAG.CorrEvalGraph{Int64, Int64}([(1, 0), (2, 0), (3, 0), (4, 0), (5, 0), (6, 0), (7, 0), (8, 0), (9, 0), (10, 0)  …  (1, 19), (1, 23), (2, 4), (3, 3), (10, 10), (10, 19), (25, 1), (25, 10), (25, 19), (26, 10)], [1, 0, 0, 0, 0, 0, 0, 0, 0, 2  …  9, 10, 11, 12, 13, 14, 15, 16, 17, 18], 24, 26)),), ACE1.DAGEvaluator()), (sparse([1, 2, 3, 4, 5, 6, 7, 8, 9, 10, 10, 11, 12, 13, 14, 15, 16], [1, 2, 3, 4, 5, 6, 8, 9, 10, 11, 12, 13, 14, 15, 16, 17, 18], [1.0, 1.0, 1.0, 1.0, 1.0, 1.4142135623730951, 1.0, 1.0, 1.0, -1.6329931618554518, 0.8164965809277259, 1.4142135623730951, 1.0, 2.449489742783178, 1.4142135623730951, 1.4142135623730951, 1.4142135623730951], 16, 18),), (1:16,))"
      ]
     },
     "execution_count": 13,
     "metadata": {},
     "output_type": "execute_result"
    }
   ],
   "source": [
    "ace_basis = dict_to_ace_basis(input_dict[\"ace_basis\"])"
   ]
  },
  {
   "cell_type": "code",
   "execution_count": 14,
   "metadata": {},
   "outputs": [
    {
     "data": {
      "text/plain": [
       "16"
      ]
     },
     "execution_count": 14,
     "metadata": {},
     "output_type": "execute_result"
    }
   ],
   "source": [
    "length(ace_basis)"
   ]
  },
  {
   "cell_type": "code",
   "execution_count": null,
   "metadata": {},
   "outputs": [],
   "source": []
  }
 ],
 "metadata": {
  "kernelspec": {
   "display_name": "Julia 1.7.3",
   "language": "julia",
   "name": "julia-1.7"
  },
  "language_info": {
   "file_extension": ".jl",
   "mimetype": "application/julia",
   "name": "julia",
   "version": "1.7.3"
  },
  "orig_nbformat": 4
 },
 "nbformat": 4,
 "nbformat_minor": 2
}
