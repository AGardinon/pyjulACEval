{
 "cells": [
  {
   "cell_type": "markdown",
   "metadata": {},
   "source": [
    "# pyjulTraj.py\n",
    "\n",
    "blabla"
   ]
  },
  {
   "cell_type": "markdown",
   "metadata": {},
   "source": [
    "## Set the workspace"
   ]
  },
  {
   "cell_type": "code",
   "execution_count": 1,
   "metadata": {},
   "outputs": [],
   "source": [
    "import os\n",
    "import numpy as np"
   ]
  },
  {
   "cell_type": "code",
   "execution_count": 2,
   "metadata": {},
   "outputs": [],
   "source": [
    "from julia.api import Julia\n",
    "jl = Julia(compiled_modules=False)"
   ]
  },
  {
   "cell_type": "code",
   "execution_count": 3,
   "metadata": {},
   "outputs": [],
   "source": [
    "from julia import Main, Pkg"
   ]
  },
  {
   "cell_type": "code",
   "execution_count": 7,
   "metadata": {},
   "outputs": [
    {
     "name": "stderr",
     "output_type": "stream",
     "text": [
      "  Activating environment at `~/workPHD/1.cambridge/ACE/pyjulACEval/Project.toml`\n"
     ]
    }
   ],
   "source": [
    "# project activation\n",
    "pkgPath = os.path.realpath('.')\n",
    "Pkg.activate(pkgPath)"
   ]
  },
  {
   "cell_type": "markdown",
   "metadata": {},
   "source": [
    "## Trajectory reader"
   ]
  },
  {
   "cell_type": "code",
   "execution_count": 8,
   "metadata": {},
   "outputs": [],
   "source": [
    "from julia import IPFitting"
   ]
  },
  {
   "cell_type": "code",
   "execution_count": 38,
   "metadata": {},
   "outputs": [],
   "source": [
    "file_name = \"examples/traj_2.1_0-100-1.xyz\""
   ]
  },
  {
   "cell_type": "code",
   "execution_count": 43,
   "metadata": {},
   "outputs": [
    {
     "name": "stderr",
     "output_type": "stream",
     "text": [
      "[ Info: Keys used: E => \"\", F => \"\", V => \"\"\n"
     ]
    }
   ],
   "source": [
    "db = IPFitting.Data.read_xyz(file_name, verbose=False, index=\":1\",\n",
    "energy_key=\"\", force_key=\"\", virial_key=\"\")"
   ]
  },
  {
   "cell_type": "markdown",
   "metadata": {},
   "source": [
    "## ACE basis definition"
   ]
  },
  {
   "cell_type": "code",
   "execution_count": 52,
   "metadata": {},
   "outputs": [],
   "source": [
    "from julia import ACE1"
   ]
  },
  {
   "cell_type": "code",
   "execution_count": 57,
   "metadata": {},
   "outputs": [
    {
     "data": {
      "text/plain": [
       "['H', 'C', 'O', 'F', 'P', 'Li', 'V', 'Sc']"
      ]
     },
     "execution_count": 57,
     "metadata": {},
     "output_type": "execute_result"
    }
   ],
   "source": [
    "species = Main.eval(\"[:H,:C,:O,:F,:P,:Li,:V,:Sc]\")\n",
    "species"
   ]
  },
  {
   "cell_type": "code",
   "execution_count": 58,
   "metadata": {},
   "outputs": [
    {
     "ename": "RuntimeError",
     "evalue": "<PyCall.jlwrap (in a Julia function called from Python)\nJULIA: MethodError: Cannot `convert` an object of type String to an object of type Int16\nClosest candidates are:\n  convert(::Type{T}, !Matched::Ptr) where T<:Integer at pointer.jl:23\n  convert(::Type{var\"#s37\"} where var\"#s37\"<:Integer, !Matched::JuLIP.Chemistry.AtomicNumber) at /home/agardin/anaconda3/envs/pyJ/share/julia/site/packages/JuLIP/2c6VG/src/chemistry.jl:29\n  convert(::Type{I}, !Matched::Type{F}) where {I<:Integer, F<:HDF5.Filters.Filter} at /home/agardin/anaconda3/envs/pyJ/share/julia/site/packages/HDF5/7zvRl/src/filters/filters.jl:399\n  ...\nStacktrace:\n [1] JuLIP.Chemistry.AtomicNumber(z::String)\n   @ JuLIP.Chemistry ~/anaconda3/envs/pyJ/share/julia/site/packages/JuLIP/2c6VG/src/chemistry.jl:21\n [2] get_maxn\n   @ ~/anaconda3/envs/pyJ/share/julia/site/packages/ACE1/bz9Ch/src/rpi/rpi_degrees.jl:52 [inlined]\n [3] invokelatest(::Any; kwargs::Base.Iterators.Pairs{Symbol, Any, NTuple{7, Symbol}, NamedTuple{(:species, :N, :maxdeg, :r0, :rin, :rcut, :pin), Tuple{Vector{String}, Int64, Int64, Float64, Float64, Float64, Int64}}})\n   @ Base ./essentials.jl:710\n [4] _pyjlwrap_call(f::Function, args_::Ptr{PyCall.PyObject_struct}, kw_::Ptr{PyCall.PyObject_struct})\n   @ PyCall ~/anaconda3/envs/pyJ/share/julia/site/packages/PyCall/7a7w0/src/callback.jl:32\n [5] pyjlwrap_call(self_::Ptr{PyCall.PyObject_struct}, args_::Ptr{PyCall.PyObject_struct}, kw_::Ptr{PyCall.PyObject_struct})\n   @ PyCall ~/anaconda3/envs/pyJ/share/julia/site/packages/PyCall/7a7w0/src/callback.jl:44>",
     "output_type": "error",
     "traceback": [
      "\u001b[0;31m---------------------------------------------------------------------------\u001b[0m",
      "\u001b[0;31mRuntimeError\u001b[0m                              Traceback (most recent call last)",
      "\u001b[1;32m/home/agardin/workPHD/1.cambridge/ACE/pyjulACEval/test_notebook.ipynb Cell 14\u001b[0m in \u001b[0;36m<cell line: 1>\u001b[0;34m()\u001b[0m\n\u001b[0;32m----> <a href='vscode-notebook-cell://wsl%2Bubuntu/home/agardin/workPHD/1.cambridge/ACE/pyjulACEval/test_notebook.ipynb#ch0000015vscode-remote?line=0'>1</a>\u001b[0m basis \u001b[39m=\u001b[39m ACE1\u001b[39m.\u001b[39;49mrpi_basis(species \u001b[39m=\u001b[39;49m species,\n\u001b[1;32m      <a href='vscode-notebook-cell://wsl%2Bubuntu/home/agardin/workPHD/1.cambridge/ACE/pyjulACEval/test_notebook.ipynb#ch0000015vscode-remote?line=1'>2</a>\u001b[0m       N \u001b[39m=\u001b[39;49m \u001b[39m1\u001b[39;49m,            \u001b[39m# correlation order = body-order - 1\u001b[39;49;00m\n\u001b[1;32m      <a href='vscode-notebook-cell://wsl%2Bubuntu/home/agardin/workPHD/1.cambridge/ACE/pyjulACEval/test_notebook.ipynb#ch0000015vscode-remote?line=2'>3</a>\u001b[0m       maxdeg \u001b[39m=\u001b[39;49m \u001b[39m3\u001b[39;49m,      \u001b[39m# polynomial degree\u001b[39;49;00m\n\u001b[1;32m      <a href='vscode-notebook-cell://wsl%2Bubuntu/home/agardin/workPHD/1.cambridge/ACE/pyjulACEval/test_notebook.ipynb#ch0000015vscode-remote?line=3'>4</a>\u001b[0m       r0 \u001b[39m=\u001b[39;49m \u001b[39m2.5\u001b[39;49m,          \u001b[39m# estimate for NN distance\u001b[39;49;00m\n\u001b[1;32m      <a href='vscode-notebook-cell://wsl%2Bubuntu/home/agardin/workPHD/1.cambridge/ACE/pyjulACEval/test_notebook.ipynb#ch0000015vscode-remote?line=4'>5</a>\u001b[0m       rin \u001b[39m=\u001b[39;49m \u001b[39m0.1\u001b[39;49m,\n\u001b[1;32m      <a href='vscode-notebook-cell://wsl%2Bubuntu/home/agardin/workPHD/1.cambridge/ACE/pyjulACEval/test_notebook.ipynb#ch0000015vscode-remote?line=5'>6</a>\u001b[0m       rcut \u001b[39m=\u001b[39;49m \u001b[39m4.5\u001b[39;49m,       \u001b[39m# domain for radial basis (cf documentation)\u001b[39;49;00m\n\u001b[1;32m      <a href='vscode-notebook-cell://wsl%2Bubuntu/home/agardin/workPHD/1.cambridge/ACE/pyjulACEval/test_notebook.ipynb#ch0000015vscode-remote?line=6'>7</a>\u001b[0m       pin \u001b[39m=\u001b[39;49m \u001b[39m2\u001b[39;49m)\n\u001b[1;32m      <a href='vscode-notebook-cell://wsl%2Bubuntu/home/agardin/workPHD/1.cambridge/ACE/pyjulACEval/test_notebook.ipynb#ch0000015vscode-remote?line=7'>8</a>\u001b[0m Main\u001b[39m.\u001b[39meval(\u001b[39m\"\u001b[39m\u001b[39m@show length(basis)\u001b[39m\u001b[39m\"\u001b[39m)\n",
      "\u001b[0;31mRuntimeError\u001b[0m: <PyCall.jlwrap (in a Julia function called from Python)\nJULIA: MethodError: Cannot `convert` an object of type String to an object of type Int16\nClosest candidates are:\n  convert(::Type{T}, !Matched::Ptr) where T<:Integer at pointer.jl:23\n  convert(::Type{var\"#s37\"} where var\"#s37\"<:Integer, !Matched::JuLIP.Chemistry.AtomicNumber) at /home/agardin/anaconda3/envs/pyJ/share/julia/site/packages/JuLIP/2c6VG/src/chemistry.jl:29\n  convert(::Type{I}, !Matched::Type{F}) where {I<:Integer, F<:HDF5.Filters.Filter} at /home/agardin/anaconda3/envs/pyJ/share/julia/site/packages/HDF5/7zvRl/src/filters/filters.jl:399\n  ...\nStacktrace:\n [1] JuLIP.Chemistry.AtomicNumber(z::String)\n   @ JuLIP.Chemistry ~/anaconda3/envs/pyJ/share/julia/site/packages/JuLIP/2c6VG/src/chemistry.jl:21\n [2] get_maxn\n   @ ~/anaconda3/envs/pyJ/share/julia/site/packages/ACE1/bz9Ch/src/rpi/rpi_degrees.jl:52 [inlined]\n [3] invokelatest(::Any; kwargs::Base.Iterators.Pairs{Symbol, Any, NTuple{7, Symbol}, NamedTuple{(:species, :N, :maxdeg, :r0, :rin, :rcut, :pin), Tuple{Vector{String}, Int64, Int64, Float64, Float64, Float64, Int64}}})\n   @ Base ./essentials.jl:710\n [4] _pyjlwrap_call(f::Function, args_::Ptr{PyCall.PyObject_struct}, kw_::Ptr{PyCall.PyObject_struct})\n   @ PyCall ~/anaconda3/envs/pyJ/share/julia/site/packages/PyCall/7a7w0/src/callback.jl:32\n [5] pyjlwrap_call(self_::Ptr{PyCall.PyObject_struct}, args_::Ptr{PyCall.PyObject_struct}, kw_::Ptr{PyCall.PyObject_struct})\n   @ PyCall ~/anaconda3/envs/pyJ/share/julia/site/packages/PyCall/7a7w0/src/callback.jl:44>"
     ]
    }
   ],
   "source": [
    "basis = ACE1.rpi_basis(species = species,\n",
    "      N = 1,            # correlation order = body-order - 1\n",
    "      maxdeg = 3,      # polynomial degree\n",
    "      r0 = 2.5,          # estimate for NN distance\n",
    "      rin = 0.1,\n",
    "      rcut = 4.5,       # domain for radial basis (cf documentation)\n",
    "      pin = 2)\n",
    "Main.eval(\"@show length(basis)\")"
   ]
  },
  {
   "cell_type": "code",
   "execution_count": null,
   "metadata": {},
   "outputs": [],
   "source": []
  }
 ],
 "metadata": {
  "kernelspec": {
   "display_name": "Python 3.9.12 ('pyJ')",
   "language": "python",
   "name": "python3"
  },
  "language_info": {
   "codemirror_mode": {
    "name": "ipython",
    "version": 3
   },
   "file_extension": ".py",
   "mimetype": "text/x-python",
   "name": "python",
   "nbconvert_exporter": "python",
   "pygments_lexer": "ipython3",
   "version": "3.9.12"
  },
  "orig_nbformat": 4,
  "vscode": {
   "interpreter": {
    "hash": "4f76b1e805870eb6f8e6399d0a44207e514263214e59ae5998666898885795e9"
   }
  }
 },
 "nbformat": 4,
 "nbformat_minor": 2
}
